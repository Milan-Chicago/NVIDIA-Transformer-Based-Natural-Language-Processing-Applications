{
 "cells": [
  {
   "cell_type": "markdown",
   "id": "3e4f0855-54dc-4a63-a7a3-43c857159615",
   "metadata": {},
   "source": [
    "## 2.3.4 Exercise: Tokenizer Index\n",
    "Print the index for \"hello\" and \"Hello\" for `bert-base-uncased`."
   ]
  },
  {
   "cell_type": "code",
   "execution_count": null,
   "id": "4d244d82-663e-4ee2-9b18-2392992c28fc",
   "metadata": {},
   "outputs": [],
   "source": [
    "#solution\n",
    "# Index of the tokens Hello and hello using bert-base-uncased tokenizer\n",
    "print(\"Index of Hello: \", tokenizer_uncased.text_to_ids(\"Hello\"))\n",
    "print(\"Index of hello: \",tokenizer_uncased.text_to_ids(\"hello\"))"
   ]
  }
 ],
 "metadata": {
  "kernelspec": {
   "display_name": "Python 3",
   "language": "python",
   "name": "python3"
  },
  "language_info": {
   "codemirror_mode": {
    "name": "ipython",
    "version": 3
   },
   "file_extension": ".py",
   "mimetype": "text/x-python",
   "name": "python",
   "nbconvert_exporter": "python",
   "pygments_lexer": "ipython3",
   "version": "3.8.8"
  }
 },
 "nbformat": 4,
 "nbformat_minor": 5
}
