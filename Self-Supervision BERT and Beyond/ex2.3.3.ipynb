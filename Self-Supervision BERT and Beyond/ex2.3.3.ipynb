{
 "cells": [
  {
   "cell_type": "code",
   "execution_count": null,
   "id": "015b26bf-63e6-4852-a368-9e81f4cd4b26",
   "metadata": {},
   "outputs": [],
   "source": [
    "# TODO Run inference over the my_queries list\n",
    "# [0, 1, 2, 2] are ideal results\n",
    "model.classifytext(queries=my_queries, batch_size=16, max_seq_length=64)"
   ]
  }
 ],
 "metadata": {
  "kernelspec": {
   "display_name": "Python 3",
   "language": "python",
   "name": "python3"
  },
  "language_info": {
   "codemirror_mode": {
    "name": "ipython",
    "version": 3
   },
   "file_extension": ".py",
   "mimetype": "text/x-python",
   "name": "python",
   "nbconvert_exporter": "python",
   "pygments_lexer": "ipython3",
   "version": "3.8.8"
  }
 },
 "nbformat": 4,
 "nbformat_minor": 5
}
